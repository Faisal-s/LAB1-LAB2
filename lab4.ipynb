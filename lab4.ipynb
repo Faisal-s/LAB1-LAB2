{
 "cells": [
  {
   "cell_type": "code",
   "execution_count": 1,
   "metadata": {},
   "outputs": [],
   "source": [
    "import nltk\n"
   ]
  },
  {
   "cell_type": "code",
   "execution_count": 2,
   "metadata": {},
   "outputs": [],
   "source": [
    "from nltk.stem import PorterStemmer\n"
   ]
  },
  {
   "cell_type": "code",
   "execution_count": 3,
   "metadata": {},
   "outputs": [],
   "source": [
    "Stemmerporter = PorterStemmer()\n"
   ]
  },
  {
   "cell_type": "code",
   "execution_count": 4,
   "metadata": {},
   "outputs": [
    {
     "data": {
      "text/plain": [
       "'understand'"
      ]
     },
     "execution_count": 4,
     "metadata": {},
     "output_type": "execute_result"
    }
   ],
   "source": [
    "Stemmerporter.stem(\"understanding\")\n"
   ]
  },
  {
   "cell_type": "code",
   "execution_count": 6,
   "metadata": {},
   "outputs": [
    {
     "name": "stdout",
     "output_type": "stream",
     "text": [
      "dogs            -> dog\n",
      "programming     -> program\n",
      "programs        -> program\n",
      "programmed      -> program\n",
      "cakes           -> cake\n",
      "indices         -> indic\n"
     ]
    },
    {
     "name": "stderr",
     "output_type": "stream",
     "text": [
      "[nltk_data] Downloading package punkt to\n",
      "[nltk_data]     C:\\Users\\user\\AppData\\Roaming\\nltk_data...\n",
      "[nltk_data]   Package punkt is already up-to-date!\n"
     ]
    }
   ],
   "source": [
    "import nltk\n",
    "from nltk.stem import PorterStemmer\n",
    "nltk.download('punkt')\n",
    "porter = PorterStemmer()\n",
    "l_words = ['dogs', 'programming', 'programs', 'programmed', 'cakes', 'indices',]\n",
    "for word in l_words:\n",
    " print(f'{word} \\t -> {porter.stem(word)}'.expandtabs(15))"
   ]
  },
  {
   "cell_type": "code",
   "execution_count": 29,
   "metadata": {},
   "outputs": [
    {
     "name": "stdout",
     "output_type": "stream",
     "text": [
      "A               -> A\n",
      "stemmer         -> stemmer\n",
      "for             -> for\n",
      "English         -> english\n",
      "operating       -> oper\n",
      "on              -> on\n",
      "the             -> the\n",
      "stem            -> stem\n",
      "cat             -> cat\n",
      "should          -> should\n",
      "identify        -> identifi\n",
      "such            -> such\n",
      "strings         -> string\n",
      "as              -> as\n",
      "cats            -> cat\n",
      ",               -> ,\n",
      "catlike         -> catlik\n",
      ",               -> ,\n",
      "and             -> and\n",
      "catty           -> catti\n",
      ".               -> .\n",
      "A               -> A\n",
      "stemming        -> stem\n",
      "algorithm       -> algorithm\n",
      "might           -> might\n",
      "also            -> also\n",
      "reduce          -> reduc\n",
      "the             -> the\n",
      "words           -> word\n",
      "fishing         -> fish\n",
      ",               -> ,\n",
      "fished          -> fish\n",
      ",               -> ,\n",
      "and             -> and\n",
      "fisher          -> fisher\n",
      "to              -> to\n",
      "the             -> the\n",
      "stem            -> stem\n",
      "fish            -> fish\n",
      ".               -> .\n",
      "The             -> the\n",
      "stem            -> stem\n",
      "need            -> need\n",
      "not             -> not\n",
      "be              -> be\n",
      "a               -> a\n",
      "word            -> word\n",
      ",               -> ,\n",
      "for             -> for\n",
      "example         -> exampl\n",
      "the             -> the\n",
      "Porter          -> porter\n",
      "algorithm       -> algorithm\n",
      "reduces         -> reduc\n",
      ",               -> ,\n",
      "argue           -> argu\n",
      ",               -> ,\n",
      "argued          -> argu\n",
      ",               -> ,\n",
      "argues          -> argu\n",
      ",               -> ,\n",
      "arguing         -> argu\n",
      ",               -> ,\n",
      "and             -> and\n",
      "argus           -> argu\n",
      "to              -> to\n",
      "the             -> the\n",
      "stem            -> stem\n",
      "argu            -> argu\n",
      ".               -> .\n"
     ]
    }
   ],
   "source": [
    "from nltk.tokenize import TreebankWordTokenizer\n",
    "\n",
    "sentence = 'A stemmer for English operating on the stem cat should identify such strings as cats, catlike, and catty. A stemming algorithm might also reduce the words fishing, fished, and fisher to the stem fish. The stem need not be a word, for example the Porter algorithm reduces, argue, argued, argues, arguing, and argus to the stem argu.' \n",
    "\n",
    "list = nltk.word_tokenize(sentence)\n",
    "\n",
    "for word in list:\n",
    "    print(f'{word} \\t -> {porter.stem(word)}'.expandtabs(15))\n",
    "\n"
   ]
  },
  {
   "cell_type": "code",
   "execution_count": 8,
   "metadata": {},
   "outputs": [],
   "source": [
    "from nltk.tokenize import sent_tokenize,word_tokenize"
   ]
  },
  {
   "cell_type": "code",
   "execution_count": 32,
   "metadata": {},
   "outputs": [
    {
     "data": {
      "text/plain": [
       "'A stemmer for english oper on the stem cat should identifi such string as cat , catlik , and catty.a stem algorithm might also reduc the word fish , fish , and fisher to the stem fish'"
      ]
     },
     "execution_count": 32,
     "metadata": {},
     "output_type": "execute_result"
    }
   ],
   "source": [
    "from nltk.tokenize import sent_tokenize, word_tokenize\n",
    "sentence = \"A stemmer for English operating on the stem cat should identify such strings as cats, catlike, and catty.A stemming algorithm might also reduce the words fishing, fished, and fisher to the stem fish\"\n",
    "tokenized_words = word_tokenize(sentence)\n",
    "tokenized_sentence = []\n",
    "for word in tokenized_words:\n",
    "    tokenized_sentence.append(porter.stem(word))\n",
    "tokenized_sentence = \" \".join(tokenized_sentence)\n",
    "tokenized_sentence"
   ]
  },
  {
   "cell_type": "code",
   "execution_count": 37,
   "metadata": {},
   "outputs": [
    {
     "ename": "SyntaxError",
     "evalue": "cannot assign to literal (<ipython-input-37-1091645d9add>, line 3)",
     "output_type": "error",
     "traceback": [
      "\u001b[1;36m  File \u001b[1;32m\"<ipython-input-37-1091645d9add>\"\u001b[1;36m, line \u001b[1;32m3\u001b[0m\n\u001b[1;33m    'حركات' =w\u001b[0m\n\u001b[1;37m    ^\u001b[0m\n\u001b[1;31mSyntaxError\u001b[0m\u001b[1;31m:\u001b[0m cannot assign to literal\n"
     ]
    }
   ],
   "source": [
    "from nltk.stem.isri import ISRIStemmer\n",
    "st = ISRIStemmer()\n",
    "'حركات' =w\n",
    "print(st.stem(w)) "
   ]
  },
  {
   "cell_type": "code",
   "execution_count": 34,
   "metadata": {},
   "outputs": [
    {
     "name": "stdout",
     "output_type": "stream",
     "text": [
      "It is a pleasant evening.\",\"Guests, who came from US arrived at the venue\",\"Food was tasty.\n",
      "Stemmed sentence\n",
      "Itisapleasanteven.``,''guest,whocamefromUSarrivatthevenu'',''foodwatasti. \n"
     ]
    }
   ],
   "source": [
    "file=open(\"C:\\\\Users\\\\user\\\\Desktop\\\\Faisal.txt\")\n",
    "Sentences= file.read()\n",
    "def stemSentence(sentence):\n",
    " token_words=word_tokenize(sentence)\n",
    " token_words\n",
    " stem_sentence=[]\n",
    " for word in token_words: stem_sentence.append(porter.stem(word))\n",
    " stem_sentence.append(\" \")\n",
    " return \"\".join(stem_sentence)\n",
    "print(Sentences)\n",
    "print(\"Stemmed sentence\")\n",
    "x=stemSentence(Sentences)\n",
    "print(x)"
   ]
  },
  {
   "cell_type": "code",
   "execution_count": 38,
   "metadata": {},
   "outputs": [
    {
     "name": "stderr",
     "output_type": "stream",
     "text": [
      "[nltk_data] Downloading package wordnet to\n",
      "[nltk_data]     C:\\Users\\user\\AppData\\Roaming\\nltk_data...\n",
      "[nltk_data]   Unzipping corpora\\wordnet.zip.\n"
     ]
    },
    {
     "data": {
      "text/plain": [
       "True"
      ]
     },
     "execution_count": 38,
     "metadata": {},
     "output_type": "execute_result"
    }
   ],
   "source": [
    "nltk.download('wordnet')\n",
    "\n"
   ]
  },
  {
   "cell_type": "code",
   "execution_count": 49,
   "metadata": {},
   "outputs": [
    {
     "name": "stdout",
     "output_type": "stream",
     "text": [
      "Word                Lemma               \n",
      "A                   A                   \n",
      "stemmer             stemmer             \n",
      "for                 for                 \n",
      "English             English             \n",
      "operating           operate             \n",
      "on                  on                  \n",
      "the                 the                 \n",
      "stem                stem                \n",
      "cat                 cat                 \n",
      "should              should              \n",
      "identify            identify            \n",
      "such                such                \n",
      "strings             string              \n",
      "as                  as                  \n",
      "cats                cat                 \n",
      "catlike             catlike             \n",
      "and                 and                 \n",
      "catty.A             catty.A             \n",
      "stemming            stem                \n",
      "algorithm           algorithm           \n",
      "might               might               \n",
      "also                also                \n",
      "reduce              reduce              \n",
      "the                 the                 \n",
      "words               word                \n",
      "fishing             fish                \n",
      "fished              fish                \n",
      "and                 and                 \n",
      "fisher              fisher              \n",
      "to                  to                  \n",
      "the                 the                 \n",
      "stem                stem                \n",
      "fish                fish                \n"
     ]
    }
   ],
   "source": [
    "from nltk.stem import WordNetLemmatizer\n",
    "wordnet_lemmatizer = WordNetLemmatizer()\n",
    "sentence1 = \"He was running and eating at same time. He has bad habit of swimming after playing long hours in the Sun.\"\n",
    "\n",
    "punctuations=\"?:!.,;\"\n",
    "sentence_words = nltk.word_tokenize(sentence)\n",
    "for word in sentence_words:\n",
    "    if word in punctuations:\n",
    "        sentence_words.remove(word)\n",
    "sentence_words\n",
    "print(\"{0:20}{1:20}\".format(\"Word\",\"Lemma\"))\n",
    "for word in sentence_words:\n",
    "    print (\"{0:20}{1:20}\".format(word,wordnet_lemmatizer.lemmatize(word,pos=\"v\"))) \n"
   ]
  },
  {
   "cell_type": "code",
   "execution_count": 47,
   "metadata": {},
   "outputs": [
    {
     "name": "stdout",
     "output_type": "stream",
     "text": [
      "A                   A                   \n",
      "stemmer             stemmer             \n",
      "for                 for                 \n",
      "English             English             \n",
      "operating           operate             \n",
      "on                  on                  \n",
      "the                 the                 \n",
      "stem                stem                \n",
      "cat                 cat                 \n",
      "should              should              \n",
      "identify            identify            \n",
      "such                such                \n",
      "strings             string              \n",
      "as                  as                  \n",
      "cats                cat                 \n",
      "catlike             catlike             \n",
      "and                 and                 \n",
      "catty.A             catty.A             \n",
      "stemming            stem                \n",
      "algorithm           algorithm           \n",
      "might               might               \n",
      "also                also                \n",
      "reduce              reduce              \n",
      "the                 the                 \n",
      "words               word                \n",
      "fishing             fish                \n",
      "fished              fish                \n",
      "and                 and                 \n",
      "fisher              fisher              \n",
      "to                  to                  \n",
      "the                 the                 \n",
      "stem                stem                \n",
      "fish                fish                \n"
     ]
    }
   ],
   "source": [
    "for word in sentence_words:\n",
    " print (\"{0:20}{1:20}\".format(word,wordnet_lemmatizer.lemmatize(word, pos=\"v\"))) \n",
    "\n"
   ]
  },
  {
   "cell_type": "code",
   "execution_count": null,
   "metadata": {},
   "outputs": [],
   "source": []
  }
 ],
 "metadata": {
  "kernelspec": {
   "display_name": "Python 3",
   "language": "python",
   "name": "python3"
  },
  "language_info": {
   "codemirror_mode": {
    "name": "ipython",
    "version": 3
   },
   "file_extension": ".py",
   "mimetype": "text/x-python",
   "name": "python",
   "nbconvert_exporter": "python",
   "pygments_lexer": "ipython3",
   "version": "3.8.3"
  }
 },
 "nbformat": 4,
 "nbformat_minor": 4
}
